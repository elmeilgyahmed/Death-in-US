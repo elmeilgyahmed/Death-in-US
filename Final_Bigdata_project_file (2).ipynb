{
  "nbformat": 4,
  "nbformat_minor": 0,
  "metadata": {
    "colab": {
      "name": "Final_Bigdata_project_file.ipynb",
      "provenance": [],
      "collapsed_sections": [
        "EawNHD4MWVmo"
      ]
    },
    "kernelspec": {
      "name": "python3",
      "display_name": "Python 3"
    },
    "language_info": {
      "name": "python"
    }
  },
  "cells": [
    {
      "cell_type": "markdown",
      "source": [
        "# Reading data ana prepare pyspark"
      ],
      "metadata": {
        "id": "up3MnjPaHasu"
      }
    },
    {
      "cell_type": "code",
      "execution_count": null,
      "metadata": {
        "id": "5KB51APs9vVx"
      },
      "outputs": [],
      "source": [
        "# Import PyDrive and associated libraries.\n",
        "# This only needs to be done once per notebook.\n",
        "from pydrive.auth import GoogleAuth\n",
        "from pydrive.drive import GoogleDrive\n",
        "from google.colab import auth\n",
        "from oauth2client.client import GoogleCredentials\n",
        "\n",
        "# Authenticate and create the PyDrive client.\n",
        "# This only needs to be done once per notebook.\n",
        "auth.authenticate_user()\n",
        "gauth = GoogleAuth()\n",
        "gauth.credentials = GoogleCredentials.get_application_default()\n",
        "drive = GoogleDrive(gauth)\n",
        "\n",
        "# Download a file based on its file ID.\n",
        "#\n",
        "# A file ID looks like: laggVyWshwcyP6kEI-y_W3P8D26sz\n",
        "file_id = '1FU6NJFNr4x_7Sohk-kAFGb3uvlemOdsY'\n",
        "downloaded = drive.CreateFile({'id': file_id})\n",
        "downloaded.GetContentFile('Death_Dataset.zip')"
      ]
    },
    {
      "cell_type": "code",
      "source": [
        "!mkdir /content/Death_Dataset\n",
        "!unzip -q /content/Death_Dataset.zip -d /content/Death_Dataset"
      ],
      "metadata": {
        "id": "c8_yHFJP-W_q"
      },
      "execution_count": null,
      "outputs": []
    },
    {
      "cell_type": "code",
      "source": [
        "!pip install pyspark"
      ],
      "metadata": {
        "colab": {
          "base_uri": "https://localhost:8080/"
        },
        "id": "Gua14rcUFHzO",
        "outputId": "18ab6794-abbb-44e0-8b91-7e29aaef5ede"
      },
      "execution_count": null,
      "outputs": [
        {
          "output_type": "stream",
          "name": "stdout",
          "text": [
            "Collecting pyspark\n",
            "  Downloading pyspark-3.2.0.tar.gz (281.3 MB)\n",
            "\u001b[K     |████████████████████████████████| 281.3 MB 44 kB/s \n",
            "\u001b[?25hCollecting py4j==0.10.9.2\n",
            "  Downloading py4j-0.10.9.2-py2.py3-none-any.whl (198 kB)\n",
            "\u001b[K     |████████████████████████████████| 198 kB 57.4 MB/s \n",
            "\u001b[?25hBuilding wheels for collected packages: pyspark\n",
            "  Building wheel for pyspark (setup.py) ... \u001b[?25l\u001b[?25hdone\n",
            "  Created wheel for pyspark: filename=pyspark-3.2.0-py2.py3-none-any.whl size=281805911 sha256=1af5324465808c56588526bd259fed0592b0eef69d31398199262727e775debc\n",
            "  Stored in directory: /root/.cache/pip/wheels/0b/de/d2/9be5d59d7331c6c2a7c1b6d1a4f463ce107332b1ecd4e80718\n",
            "Successfully built pyspark\n",
            "Installing collected packages: py4j, pyspark\n",
            "Successfully installed py4j-0.10.9.2 pyspark-3.2.0\n"
          ]
        }
      ]
    },
    {
      "cell_type": "code",
      "source": [
        "import pyspark\n",
        "from pyspark.sql import SparkSession\n",
        "from pyspark.sql import functions as F\n",
        "import json\n",
        "import numpy as np"
      ],
      "metadata": {
        "id": "iZNUp-eQIx1k"
      },
      "execution_count": null,
      "outputs": []
    },
    {
      "cell_type": "code",
      "source": [
        "spark = SparkSession.builder.appName(\"death\").getOrCreate()\n",
        "df = spark.read.csv(\"/content/Death_Dataset/2005_data.csv\")"
      ],
      "metadata": {
        "id": "uzgzS2GDDebG"
      },
      "execution_count": null,
      "outputs": []
    },
    {
      "cell_type": "markdown",
      "source": [
        "# SHOW function \n"
      ],
      "metadata": {
        "id": "HwECeVzHTTgI"
      }
    },
    {
      "cell_type": "code",
      "source": [
        "import matplotlib.pyplot as plt\n",
        "def show(name,val,x_name,y_name,tit):\n",
        "    fig = plt.figure(figsize = (10, 5))\n",
        "    \n",
        "    # creating the bar plot\n",
        "    plt.bar(name, val, color ='maroon',\n",
        "            width = 0.4)\n",
        "    \n",
        "    plt.xlabel(x_name)\n",
        "    plt.ylabel(y_name)\n",
        "    plt.title(tit)\n",
        "    plt.show()"
      ],
      "metadata": {
        "id": "mXb-aTzUEoHt"
      },
      "execution_count": null,
      "outputs": []
    },
    {
      "cell_type": "markdown",
      "source": [
        "# Using Header Record For Column Names"
      ],
      "metadata": {
        "id": "CdxTeTtCuvrc"
      }
    },
    {
      "cell_type": "code",
      "source": [
        "death_2005_data = spark.read.option(\"header\",True).csv(\"/content/Death_Dataset/2005_data.csv\")"
      ],
      "metadata": {
        "id": "AL4NRGZJuqDe"
      },
      "execution_count": null,
      "outputs": []
    },
    {
      "cell_type": "markdown",
      "source": [
        "# Read json"
      ],
      "metadata": {
        "id": "11jU6p0hvzTs"
      }
    },
    {
      "cell_type": "code",
      "source": [
        "def read_json(path):\n",
        "  with open(path, 'r') as f:\n",
        "        code=json.load(f)\n",
        "        return code"
      ],
      "metadata": {
        "id": "6mTxu2KZI5L3"
      },
      "execution_count": null,
      "outputs": []
    },
    {
      "cell_type": "markdown",
      "source": [
        "### 2005 data"
      ],
      "metadata": {
        "id": "3LfkbExZpqGu"
      }
    },
    {
      "cell_type": "code",
      "source": [
        "death_2005_data.show()"
      ],
      "metadata": {
        "id": "UG-5BiT2GcNB",
        "colab": {
          "base_uri": "https://localhost:8080/"
        },
        "outputId": "8b2fcfe1-248f-434f-efcc-135ef9cee10e"
      },
      "execution_count": null,
      "outputs": [
        {
          "output_type": "stream",
          "name": "stdout",
          "text": [
            "+---------------+-----------------------+-----------------------+------------------------+--------------+---+---------------+----------+---------------------+-------------+-------------+-------------+--------------------+-----------------------------------+--------------+--------------------+-----------------+--------------+---------------+---------------------+-------+-------------+------------------------------------------------------+----------------------+----------------+----------------+-----------------------+---------------+--------------------------------+------------------+------------------+------------------+------------------+------------------+------------------+------------------+------------------+------------------+-------------------+-------------------+-------------------+-------------------+-------------------+-------------------+-------------------+-------------------+-------------------+-------------------+-------------------+--------------------------------+------------------+------------------+------------------+------------------+------------------+------------------+------------------+------------------+------------------+-------------------+-------------------+-------------------+-------------------+-------------------+-------------------+-------------------+-------------------+-------------------+-------------------+-------------------+----+-----------------+--------------------+-------------+-------------+---------------+--------------------------+\n",
            "|resident_status|education_1989_revision|education_2003_revision|education_reporting_flag|month_of_death|sex|detail_age_type|detail_age|age_substitution_flag|age_recode_52|age_recode_27|age_recode_12|infant_age_recode_22|place_of_death_and_decedents_status|marital_status|day_of_week_of_death|current_data_year|injury_at_work|manner_of_death|method_of_disposition|autopsy|activity_code|place_of_injury_for_causes_w00_y34_except_y06_and_y07_|icd_code_10th_revision|358_cause_recode|113_cause_recode|130_infant_cause_recode|39_cause_recode|number_of_entity_axis_conditions|entity_condition_1|entity_condition_2|entity_condition_3|entity_condition_4|entity_condition_5|entity_condition_6|entity_condition_7|entity_condition_8|entity_condition_9|entity_condition_10|entity_condition_11|entity_condition_12|entity_condition_13|entity_condition_14|entity_condition_15|entity_condition_16|entity_condition_17|entity_condition_18|entity_condition_19|entity_condition_20|number_of_record_axis_conditions|record_condition_1|record_condition_2|record_condition_3|record_condition_4|record_condition_5|record_condition_6|record_condition_7|record_condition_8|record_condition_9|record_condition_10|record_condition_11|record_condition_12|record_condition_13|record_condition_14|record_condition_15|record_condition_16|record_condition_17|record_condition_18|record_condition_19|record_condition_20|race|bridged_race_flag|race_imputation_flag|race_recode_3|race_recode_5|hispanic_origin|hispanic_originrace_recode|\n",
            "+---------------+-----------------------+-----------------------+------------------------+--------------+---+---------------+----------+---------------------+-------------+-------------+-------------+--------------------+-----------------------------------+--------------+--------------------+-----------------+--------------+---------------+---------------------+-------+-------------+------------------------------------------------------+----------------------+----------------+----------------+-----------------------+---------------+--------------------------------+------------------+------------------+------------------+------------------+------------------+------------------+------------------+------------------+------------------+-------------------+-------------------+-------------------+-------------------+-------------------+-------------------+-------------------+-------------------+-------------------+-------------------+-------------------+--------------------------------+------------------+------------------+------------------+------------------+------------------+------------------+------------------+------------------+------------------+-------------------+-------------------+-------------------+-------------------+-------------------+-------------------+-------------------+-------------------+-------------------+-------------------+-------------------+----+-----------------+--------------------+-------------+-------------+---------------+--------------------------+\n",
            "|              1|                     11|                   null|                       0|            01|  F|              1|       045|                 null|           35|           15|           07|                null|                                  1|             M|                   2|             2005|             U|              7|                    U|      N|         null|                                                  null|                  C439|             098|             028|                   null|             15|                              01|            11C439|              null|              null|              null|              null|              null|              null|              null|              null|               null|               null|               null|               null|               null|               null|               null|               null|               null|               null|               null|                              01|              C439|              null|              null|              null|              null|              null|              null|              null|              null|               null|               null|               null|               null|               null|               null|               null|               null|               null|               null|               null|  01|             null|                null|            1|            1|            100|                         6|\n",
            "|              1|                     13|                   null|                       0|            01|  M|              1|       061|                 null|           38|           18|           08|                null|                                  1|             D|                   7|             2005|             U|              7|                    U|      N|         null|                                                  null|                  J439|             266|             084|                   null|             28|                              01|            11J439|              null|              null|              null|              null|              null|              null|              null|              null|               null|               null|               null|               null|               null|               null|               null|               null|               null|               null|               null|                              01|              J439|              null|              null|              null|              null|              null|              null|              null|              null|               null|               null|               null|               null|               null|               null|               null|               null|               null|               null|               null|  01|             null|                null|            1|            1|            100|                         6|\n",
            "|              1|                     12|                   null|                       0|            01|  F|              1|       079|                 null|           41|           21|           10|                null|                                  6|             D|                   1|             2005|             U|              7|                    U|      N|         null|                                                  null|                  I698|             239|             070|                   null|             24|                              05|            11R628|            21I698|            61J449|            62M199|            63R568|              null|              null|              null|              null|               null|               null|               null|               null|               null|               null|               null|               null|               null|               null|               null|                              05|              I698|              J449|              M199|              R568|              R628|              null|              null|              null|              null|               null|               null|               null|               null|               null|               null|               null|               null|               null|               null|               null|  01|             null|                null|            1|            1|            100|                         6|\n",
            "|              1|                     12|                   null|                       0|            01|  M|              1|       050|                 null|           36|           16|           07|                null|                                  1|             S|                   4|             2005|             U|              7|                    U|      N|         null|                                                  null|                  E119|             159|             046|                   null|             16|                              04|            11I469|            61E119|            62I500|            63K862|              null|              null|              null|              null|              null|               null|               null|               null|               null|               null|               null|               null|               null|               null|               null|               null|                              04|              E119|              I469|              I500|              K862|              null|              null|              null|              null|              null|               null|               null|               null|               null|               null|               null|               null|               null|               null|               null|               null|  01|             null|                null|            1|            1|            100|                         6|\n",
            "|              1|                     14|                   null|                       0|            01|  F|              1|       068|                 null|           39|           19|           09|                null|                                  1|             M|                   2|             2005|             U|              7|                    U|      N|         null|                                                  null|                  C349|             093|             027|                   null|             08|                              03|            11C349|            61F179|            62J449|              null|              null|              null|              null|              null|              null|               null|               null|               null|               null|               null|               null|               null|               null|               null|               null|               null|                              03|              C349|              F179|              J449|              null|              null|              null|              null|              null|              null|               null|               null|               null|               null|               null|               null|               null|               null|               null|               null|               null|  01|             null|                null|            1|            1|            100|                         6|\n",
            "|              1|                     03|                   null|                       0|            01|  F|              1|       089|                 null|           43|           23|           11|                null|                                  6|             W|                   7|             2005|             U|              7|                    U|      N|         null|                                                  null|                  I679|             239|             070|                   null|             24|                              03|             11N19|            21I679|             61F03|              null|              null|              null|              null|              null|              null|               null|               null|               null|               null|               null|               null|               null|               null|               null|               null|               null|                              03|               F03|              I679|               N19|              null|              null|              null|              null|              null|              null|               null|               null|               null|               null|               null|               null|               null|               null|               null|               null|               null|  03|             null|                null|            2|            3|            100|                         8|\n",
            "|              1|                     12|                   null|                       0|            01|  F|              1|       068|                 null|           39|           19|           09|                null|                                  1|             D|                   7|             2005|             U|              7|                    U|      N|         null|                                                  null|                  J439|             266|             084|                   null|             28|                              01|            11J439|              null|              null|              null|              null|              null|              null|              null|              null|               null|               null|               null|               null|               null|               null|               null|               null|               null|               null|               null|                              01|              J439|              null|              null|              null|              null|              null|              null|              null|              null|               null|               null|               null|               null|               null|               null|               null|               null|               null|               null|               null|  01|             null|                null|            1|            1|            100|                         6|\n",
            "|              1|                     12|                   null|                       0|            01|  M|              1|       061|                 null|           38|           18|           08|                null|                                  1|             S|                   6|             2005|             U|              7|                    U|      N|         null|                                                  null|                  J449|             267|             086|                   null|             28|                              03|            11I279|            21J449|            61F102|              null|              null|              null|              null|              null|              null|               null|               null|               null|               null|               null|               null|               null|               null|               null|               null|               null|                              03|              F102|              I279|              J449|              null|              null|              null|              null|              null|              null|               null|               null|               null|               null|               null|               null|               null|               null|               null|               null|               null|  03|             null|                null|            2|            3|            100|                         8|\n",
            "|              1|                     14|                   null|                       0|            01|  F|              1|       073|                 null|           40|           20|           09|                null|                                  1|             D|                   6|             2005|             U|              7|                    U|      N|         null|                                                  null|                  J439|             266|             084|                   null|             28|                              01|            11J439|              null|              null|              null|              null|              null|              null|              null|              null|               null|               null|               null|               null|               null|               null|               null|               null|               null|               null|               null|                              01|              J439|              null|              null|              null|              null|              null|              null|              null|              null|               null|               null|               null|               null|               null|               null|               null|               null|               null|               null|               null|  01|             null|                null|            1|            1|            100|                         6|\n",
            "|              3|                     08|                   null|                       0|            01|  F|              1|       085|                 null|           43|           23|           11|                null|                                  7|             W|                   6|             2005|             U|              7|                    U|      N|         null|                                                  null|                   C80|             125|             043|                   null|             15|                              01|             11C80|              null|              null|              null|              null|              null|              null|              null|              null|               null|               null|               null|               null|               null|               null|               null|               null|               null|               null|               null|                              01|               C80|              null|              null|              null|              null|              null|              null|              null|              null|               null|               null|               null|               null|               null|               null|               null|               null|               null|               null|               null|  01|             null|                null|            1|            1|            100|                         6|\n",
            "|              1|                     03|                   null|                       0|            01|  F|              1|       093|                 null|           44|           24|           11|                null|                                  6|             W|                   7|             2005|             U|              7|                    U|      N|         null|                                                  null|                   R99|             379|             110|                   null|             36|                              01|             11R99|              null|              null|              null|              null|              null|              null|              null|              null|               null|               null|               null|               null|               null|               null|               null|               null|               null|               null|               null|                              01|               R99|              null|              null|              null|              null|              null|              null|              null|              null|               null|               null|               null|               null|               null|               null|               null|               null|               null|               null|               null|  03|             null|                null|            2|            3|            100|                         8|\n",
            "|              1|                     11|                   null|                       0|            01|  M|              1|       077|                 null|           41|           21|           10|                null|                                  1|             M|                   4|             2005|             U|              7|                    U|      N|         null|                                                  null|                  C189|             081|             023|                   null|             06|                              03|            11C189|            21C189|             61F03|              null|              null|              null|              null|              null|              null|               null|               null|               null|               null|               null|               null|               null|               null|               null|               null|               null|                              02|              C189|               F03|              null|              null|              null|              null|              null|              null|              null|               null|               null|               null|               null|               null|               null|               null|               null|               null|               null|               null|  02|             null|                null|            3|            2|            100|                         7|\n",
            "|              1|                     06|                   null|                       0|            01|  M|              1|       078|                 null|           41|           21|           10|                null|                                  1|             D|                   2|             2005|             U|              7|                    U|      N|         null|                                                  null|                  J449|             267|             086|                   null|             28|                              02|            11J969|            21J449|              null|              null|              null|              null|              null|              null|              null|               null|               null|               null|               null|               null|               null|               null|               null|               null|               null|               null|                              02|              J449|              J969|              null|              null|              null|              null|              null|              null|              null|               null|               null|               null|               null|               null|               null|               null|               null|               null|               null|               null|  01|             null|                null|            1|            1|            100|                         6|\n",
            "|              1|                     14|                   null|                       0|            01|  M|              1|       048|                 null|           35|           15|           07|                null|                                  1|             M|                   3|             2005|             U|              7|                    U|      N|         null|                                                  null|                  C439|             098|             028|                   null|             15|                              01|            11C439|              null|              null|              null|              null|              null|              null|              null|              null|               null|               null|               null|               null|               null|               null|               null|               null|               null|               null|               null|                              01|              C439|              null|              null|              null|              null|              null|              null|              null|              null|               null|               null|               null|               null|               null|               null|               null|               null|               null|               null|               null|  01|             null|                null|            1|            1|            100|                         6|\n",
            "|              1|                     12|                   null|                       0|            01|  M|              1|       078|                 null|           41|           21|           10|                null|                                  1|             W|                   2|             2005|             U|              7|                    U|      N|         null|                                                  null|                  J849|             278|             089|                   null|             37|                              08|            11J969|            21J849|            61J189|            62M819|            63M844|             64I64|            65I251|             66C61|              null|               null|               null|               null|               null|               null|               null|               null|               null|               null|               null|               null|                              07|               C61|              I251|               I64|              J189|              J849|              J969|              M809|              null|              null|               null|               null|               null|               null|               null|               null|               null|               null|               null|               null|               null|  01|             null|                null|            1|            1|            100|                         6|\n",
            "|              1|                     12|                   null|                       0|            01|  F|              1|       059|                 null|           37|           17|           08|                null|                                  1|             M|                   4|             2005|             U|              7|                    U|      N|         null|                                                  null|                  C349|             093|             027|                   null|             08|                              03|            11C349|            61J459|             62N19|              null|              null|              null|              null|              null|              null|               null|               null|               null|               null|               null|               null|               null|               null|               null|               null|               null|                              03|              C349|              J459|               N19|              null|              null|              null|              null|              null|              null|               null|               null|               null|               null|               null|               null|               null|               null|               null|               null|               null|  01|             null|                null|            1|            1|            100|                         6|\n",
            "|              1|                     08|                   null|                       0|            01|  M|              1|       077|                 null|           41|           21|           10|                null|                                  6|             M|                   6|             2005|             U|              7|                    U|      N|            9|                                                     9|                   X59|             423|             123|                   null|             39|                              03|            11S720|             31F03|             61X59|              null|              null|              null|              null|              null|              null|               null|               null|               null|               null|               null|               null|               null|               null|               null|               null|               null|                              03|               F03|              S720|               X59|              null|              null|              null|              null|              null|              null|               null|               null|               null|               null|               null|               null|               null|               null|               null|               null|               null|  03|             null|                null|            2|            3|            100|                         8|\n",
            "|              1|                     17|                   null|                       0|            01|  M|              1|       039|                 null|           33|           13|           06|                null|                                  1|             M|                   3|             2005|             N|              5|                    U|      Y|            9|                                                     0|                   Y20|             448|             133|                   null|             42|                              04|             11T71|             12Y20|            21S199|            61S199|              null|              null|              null|              null|              null|               null|               null|               null|               null|               null|               null|               null|               null|               null|               null|               null|                              03|              S199|               T71|               Y20|              null|              null|              null|              null|              null|              null|               null|               null|               null|               null|               null|               null|               null|               null|               null|               null|               null|  01|             null|                null|            1|            1|            211|                         1|\n",
            "|              1|                     12|                   null|                       0|            01|  M|              1|       064|                 null|           38|           18|           08|                null|                                  7|             D|                   1|             2005|             U|              7|                    U|      N|         null|                                                  null|                  I250|             214|             062|                   null|             21|                              01|            11I250|              null|              null|              null|              null|              null|              null|              null|              null|               null|               null|               null|               null|               null|               null|               null|               null|               null|               null|               null|                              01|              I250|              null|              null|              null|              null|              null|              null|              null|              null|               null|               null|               null|               null|               null|               null|               null|               null|               null|               null|               null|  01|             null|                null|            1|            1|            100|                         6|\n",
            "|              1|                     12|                   null|                       0|            01|  F|              1|       090|                 null|           44|           24|           11|                null|                                  6|             W|                   2|             2005|             U|              7|                    U|      N|         null|                                                  null|                  J449|             267|             086|                   null|             28|                              01|            11J449|              null|              null|              null|              null|              null|              null|              null|              null|               null|               null|               null|               null|               null|               null|               null|               null|               null|               null|               null|                              01|              J449|              null|              null|              null|              null|              null|              null|              null|              null|               null|               null|               null|               null|               null|               null|               null|               null|               null|               null|               null|  01|             null|                null|            1|            1|            100|                         6|\n",
            "+---------------+-----------------------+-----------------------+------------------------+--------------+---+---------------+----------+---------------------+-------------+-------------+-------------+--------------------+-----------------------------------+--------------+--------------------+-----------------+--------------+---------------+---------------------+-------+-------------+------------------------------------------------------+----------------------+----------------+----------------+-----------------------+---------------+--------------------------------+------------------+------------------+------------------+------------------+------------------+------------------+------------------+------------------+------------------+-------------------+-------------------+-------------------+-------------------+-------------------+-------------------+-------------------+-------------------+-------------------+-------------------+-------------------+--------------------------------+------------------+------------------+------------------+------------------+------------------+------------------+------------------+------------------+------------------+-------------------+-------------------+-------------------+-------------------+-------------------+-------------------+-------------------+-------------------+-------------------+-------------------+-------------------+----+-----------------+--------------------+-------------+-------------+---------------+--------------------------+\n",
            "only showing top 20 rows\n",
            "\n"
          ]
        }
      ]
    },
    {
      "cell_type": "code",
      "source": [
        "wordCounts_manner = (death_2005_data.groupBy('manner_of_death').count())\n",
        "wordCounts_manner.show()"
      ],
      "metadata": {
        "colab": {
          "base_uri": "https://localhost:8080/"
        },
        "id": "NQXkybrira2f",
        "outputId": "344fd267-da9c-4d16-c82e-6c5d04ef6afd"
      },
      "execution_count": null,
      "outputs": [
        {
          "output_type": "stream",
          "name": "stdout",
          "text": [
            "+---------------+-------+\n",
            "|manner_of_death|  count|\n",
            "+---------------+-------+\n",
            "|              7|1537327|\n",
            "|              3|  19235|\n",
            "|              5|   9131|\n",
            "|              1| 113949|\n",
            "|              4|   7039|\n",
            "|              2|  32934|\n",
            "|           null| 732891|\n",
            "+---------------+-------+\n",
            "\n"
          ]
        }
      ]
    },
    {
      "cell_type": "code",
      "source": [
        "from pyspark.sql.functions import col\n",
        "\n",
        "def Get_wordcount_specific_column (path,column_name):\n",
        "  read_data = spark.read.option(\"header\",True).csv(path)\n",
        "  specific_column = read_data.select(col(column_name))\n",
        "  wordcount_column = (specific_column.groupBy(column_name).count())\n",
        "\n",
        "  return wordcount_column"
      ],
      "metadata": {
        "id": "p-DAuBhXcIJj"
      },
      "execution_count": null,
      "outputs": []
    },
    {
      "cell_type": "markdown",
      "source": [
        "# 2005 Day_death"
      ],
      "metadata": {
        "id": "yV81WASKWHvc"
      }
    },
    {
      "cell_type": "code",
      "source": [
        "data_2005_day_death = Get_wordcount_specific_column (\"/content/Death_Dataset/2005_data.csv\",\"day_of_week_of_death\")\n",
        "data_2005_day_death.show()"
      ],
      "metadata": {
        "colab": {
          "base_uri": "https://localhost:8080/"
        },
        "id": "-HQ3ZHj1ba-a",
        "outputId": "adbfd7a3-60e1-4390-97cd-518cddbeb242"
      },
      "execution_count": null,
      "outputs": [
        {
          "output_type": "stream",
          "name": "stdout",
          "text": [
            "+--------------------+------+\n",
            "|day_of_week_of_death| count|\n",
            "+--------------------+------+\n",
            "|                   7|362584|\n",
            "|                   3|346973|\n",
            "|                   5|347244|\n",
            "|                   6|350725|\n",
            "|                   1|347512|\n",
            "|                   4|346635|\n",
            "|                   2|350823|\n",
            "|                   9|    10|\n",
            "+--------------------+------+\n",
            "\n"
          ]
        }
      ]
    },
    {
      "cell_type": "code",
      "source": [
        "def df_to_arr(df,column_name):\n",
        "  count=df.toPandas()['count'].values\n",
        "  arr=df.toPandas()[column_name].values\n",
        "  return count,arr\n",
        "  \n",
        "count,days=df_to_arr(data_2005_day_death,'day_of_week_of_death') \n",
        "code_2005=read_json('/content/Death_Dataset/2005_codes.json')"
      ],
      "metadata": {
        "id": "vHgpar6aDdeQ"
      },
      "execution_count": null,
      "outputs": []
    },
    {
      "cell_type": "code",
      "source": [
        "show([*map(code_2005['day_of_week_of_death'].get, list(days))],count,'day death','count',' day death 2005')"
      ],
      "metadata": {
        "colab": {
          "base_uri": "https://localhost:8080/",
          "height": 350
        },
        "id": "ay3qln1FOdy2",
        "outputId": "31bef316-8986-4b31-8299-8095d359ed91"
      },
      "execution_count": null,
      "outputs": [
        {
          "output_type": "display_data",
          "data": {
            "image/png": "[encoded data removed]",
            "text/plain": [
              "<Figure size 720x360 with 1 Axes>"
            ]
          },
          "metadata": {
            "needs_background": "light"
          }
        }
      ]
    },
    {
      "cell_type": "markdown",
      "source": [
        "# 2010 day_death"
      ],
      "metadata": {
        "id": "T_D6du7chQZc"
      }
    },
    {
      "cell_type": "code",
      "source": [
        "data_2010_day_death = Get_wordcount_specific_column (\"/content/Death_Dataset/2010_data.csv\",\"day_of_week_of_death\")\n",
        "count,days=df_to_arr(data_2010_day_death,'day_of_week_of_death') \n",
        "code_2010=read_json('/content/Death_Dataset/2010_codes.json')\n",
        "show([*map(code_2010['day_of_week_of_death'].get, list(days))],count,'day death','count',' day death 2010')"
      ],
      "metadata": {
        "colab": {
          "base_uri": "https://localhost:8080/",
          "height": 350
        },
        "outputId": "d55d96fd-4a3f-40e6-977e-cab2ca4cf2d9",
        "id": "ZNtkE-IjgkK5"
      },
      "execution_count": null,
      "outputs": [
        {
          "output_type": "display_data",
          "data": {
            "image/png": "[encoded data removed]",
            "text/plain": [
              "<Figure size 720x360 with 1 Axes>"
            ]
          },
          "metadata": {
            "needs_background": "light"
          }
        }
      ]
    },
    {
      "cell_type": "code",
      "source": [
        "data_2010_day_death = Get_wordcount_specific_column (\"/content/Death_Dataset/2010_data.csv\",\"race\")\n",
        "count,days=df_to_arr(data_2010_day_death,'race') \n",
        "code_2010=read_json('/content/Death_Dataset/2010_codes.json')\n",
        "\n"
      ],
      "metadata": {
        "id": "qVk7U3OHg_sr"
      },
      "execution_count": null,
      "outputs": []
    },
    {
      "cell_type": "code",
      "source": [
        "show([*map(code_2010['race'].get, list(days[0:5]))],count[0:5],'day death','count',' day death 2010')"
      ],
      "metadata": {
        "colab": {
          "base_uri": "https://localhost:8080/",
          "height": 350
        },
        "id": "OolmgtwOh9IZ",
        "outputId": "f4e91d8b-c6ad-4826-a350-f0ee845a80e2"
      },
      "execution_count": null,
      "outputs": [
        {
          "output_type": "display_data",
          "data": {
            "image/png": "[encoded data removed]",
            "text/plain": [
              "<Figure size 720x360 with 1 Axes>"
            ]
          },
          "metadata": {
            "needs_background": "light"
          }
        }
      ]
    },
    {
      "cell_type": "code",
      "source": [
        "data_2005_resident_status = Get_wordcount_specific_column (\"/content/Death_Dataset/2005_data.csv\",\"resident_status\")\n",
        "count,resident=df_to_arr(data_2005_resident_status,'resident_status') \n",
        "\n",
        "show([*map(code_2005['resident_status'].get, list(resident))],count,'resident status','count','  resident status 2005')"
      ],
      "metadata": {
        "id": "LHnnE2N3jRMG",
        "colab": {
          "base_uri": "https://localhost:8080/",
          "height": 350
        },
        "outputId": "f8c1312b-4bc1-47fc-b4b2-90284a53075c"
      },
      "execution_count": null,
      "outputs": [
        {
          "output_type": "display_data",
          "data": {
            "image/png": "[encoded data removed]",
            "text/plain": [
              "<Figure size 720x360 with 1 Axes>"
            ]
          },
          "metadata": {
            "needs_background": "light"
          }
        }
      ]
    },
    {
      "cell_type": "markdown",
      "source": [
        "### converting into csv"
      ],
      "metadata": {
        "id": "TS2Fbg3aOAXJ"
      }
    },
    {
      "cell_type": "code",
      "source": [
        "import csv\n",
        "def convert_to_csv (json_file,name_of_column,count_of_this_column,data_before_mapping,outputted_csv):\n",
        "  Mapped_array = []\n",
        "  for i in data_before_mapping:\n",
        "    for key in json_file[name_of_column]:\n",
        "      if key == i:\n",
        "        Mapped_array.append(json_file[name_of_column][key])\n",
        "\n",
        "  header = [name_of_column,'count']\n",
        "  with open(outputted_csv, 'w') as f:\n",
        "    writer = csv.writer(f)\n",
        "    writer.writerow(header)\n",
        "    for i in range(len(Mapped_array)):\n",
        "      row = [Mapped_array[i],count_of_this_column[i]]\n",
        "      writer.writerow(row)\n",
        "      row =[]\n",
        "    f.close()"
      ],
      "metadata": {
        "id": "_AY86esGTKlg"
      },
      "execution_count": null,
      "outputs": []
    },
    {
      "cell_type": "code",
      "source": [
        "convert_to_csv(code_2005,'day_of_week_of_death',count,days,'test.csv')"
      ],
      "metadata": {
        "id": "uSTt7shAUqVR"
      },
      "execution_count": null,
      "outputs": []
    },
    {
      "cell_type": "markdown",
      "source": [
        "# Multi Varible "
      ],
      "metadata": {
        "id": "BKnHNEf_WQd-"
      }
    },
    {
      "cell_type": "code",
      "source": [
        "def multi_var(path,var1,var2):\n",
        "  data=spark.read.option(\"header\",True).csv(path)\n",
        "  return data.groupBy(var1,var2).count()\n"
      ],
      "metadata": {
        "id": "AM34gDCvOp2g"
      },
      "execution_count": null,
      "outputs": []
    },
    {
      "cell_type": "markdown",
      "source": [
        "# Cause_Sex_2005"
      ],
      "metadata": {
        "id": "As8GREp9amSw"
      }
    },
    {
      "cell_type": "code",
      "source": [
        "cause_sex_2005=multi_var('/content/Death_Dataset/2005_data.csv','manner_of_death','sex')"
      ],
      "metadata": {
        "id": "HM7BNz-wPLWT"
      },
      "execution_count": null,
      "outputs": []
    },
    {
      "cell_type": "code",
      "source": [
        "df = cause_sex_2005.replace(to_replace=code_2005['manner_of_death'], subset=['manner_of_death'])\n",
        "df2 = df.replace(to_replace=code_2005['sex'], subset=['sex'])"
      ],
      "metadata": {
        "id": "mLCPiZCKPar-"
      },
      "execution_count": null,
      "outputs": []
    },
    {
      "cell_type": "code",
      "source": [
        "df2.coalesce(1).write.format('com.databricks.spark.csv').options(header='true').save('content/causes_sex')"
      ],
      "metadata": {
        "id": "3h2uu_qVQoNL"
      },
      "execution_count": null,
      "outputs": []
    },
    {
      "cell_type": "markdown",
      "source": [
        "# Cause_Sex_2010"
      ],
      "metadata": {
        "id": "n-Jl7lq6ad2B"
      }
    },
    {
      "cell_type": "code",
      "source": [
        "cause_sex_2010=multi_var('/content/Death_Dataset/2010_data.csv','manner_of_death','sex')"
      ],
      "metadata": {
        "id": "1hoQ6cmtVq-v"
      },
      "execution_count": null,
      "outputs": []
    },
    {
      "cell_type": "code",
      "source": [
        "code_2010=read_json('/content/Death_Dataset/2010_codes.json')\n",
        "df = cause_sex_2010.replace(to_replace=code_2010['manner_of_death'], subset=['manner_of_death'])\n",
        "df2 = df.replace(to_replace=code_2010['sex'], subset=['sex'])"
      ],
      "metadata": {
        "id": "S4HzQ2VjaMup"
      },
      "execution_count": null,
      "outputs": []
    },
    {
      "cell_type": "code",
      "source": [
        "df2.coalesce(1).write.format('com.databricks.spark.csv').options(header='true').save('content/causes_sex_2010')"
      ],
      "metadata": {
        "id": "4CRnq1lAa6U5"
      },
      "execution_count": null,
      "outputs": []
    },
    {
      "cell_type": "markdown",
      "source": [
        "# Cause_Sex_2015"
      ],
      "metadata": {
        "id": "nwx89cT7cFPY"
      }
    },
    {
      "cell_type": "code",
      "source": [
        "cause_sex_2015=multi_var('/content/Death_Dataset/2015_data.csv','manner_of_death','sex')"
      ],
      "metadata": {
        "id": "z8uEVCHFa9il"
      },
      "execution_count": null,
      "outputs": []
    },
    {
      "cell_type": "code",
      "source": [
        "code_2015=read_json('/content/Death_Dataset/2015_codes.json')\n",
        "df = cause_sex_2015.replace(to_replace=code_2015['manner_of_death'], subset=['manner_of_death'])\n",
        "df2 = df.replace(to_replace=code_2015['sex'], subset=['sex'])"
      ],
      "metadata": {
        "id": "amm4pud2b2rc"
      },
      "execution_count": null,
      "outputs": []
    },
    {
      "cell_type": "code",
      "source": [
        "df2.coalesce(1).write.format('com.databricks.spark.csv').options(header='true').save('content/causes_sex_2015')"
      ],
      "metadata": {
        "id": "P3yfImoDb4Lw"
      },
      "execution_count": null,
      "outputs": []
    },
    {
      "cell_type": "markdown",
      "source": [
        "# 3-var"
      ],
      "metadata": {
        "id": "OZd3gQc0c5Aa"
      }
    },
    {
      "cell_type": "code",
      "source": [
        "def multi_var_3(path,var1,var2,var3):\n",
        "  data=spark.read.option(\"header\",True).csv(path)\n",
        "  return data.groupBy(var1,var2,var3).count()"
      ],
      "metadata": {
        "id": "Dpqk8t-YcLPW"
      },
      "execution_count": null,
      "outputs": []
    },
    {
      "cell_type": "code",
      "source": [
        "from pyspark.sql import functions as sf\n",
        "cause_age_sex_2015=multi_var_3('/content/Death_Dataset/2010_data.csv','39_cause_recode','age_recode_52','sex')\n",
        "cause_age_sex_2015=cause_age_sex_2015.withColumn('joined_column',sf.concat(sf.lit('0'), sf.col('39_cause_recode')))\n",
        "df = cause_age_sex_2015.replace(to_replace=code_2015['39_cause_recode'], subset=['joined_column'])\n",
        "df2 = df.replace(to_replace=code_2015['sex'], subset=['sex'])\n",
        "df3 = df2.replace(to_replace=code_2015['age_recode_52'], subset=['age_recode_52'])\n",
        "df3.coalesce(1).write.format('com.databricks.spark.csv').options(header='true').save('content/causes_sex_age_2015')"
      ],
      "metadata": {
        "id": "ywge5-4IiOgp"
      },
      "execution_count": null,
      "outputs": []
    },
    {
      "cell_type": "markdown",
      "source": [
        "# 2-var "
      ],
      "metadata": {
        "id": "9ddVUtvcH5no"
      }
    },
    {
      "cell_type": "code",
      "source": [
        "code_2005=read_json('/content/Death_Dataset/2005_codes.json')\n",
        "edu_mar_2005=multi_var('/content/Death_Dataset/2005_data.csv','education_2003_revision','marital_status')"
      ],
      "metadata": {
        "id": "a7bAFrJUH4Xp"
      },
      "execution_count": null,
      "outputs": []
    },
    {
      "cell_type": "code",
      "source": [
        "df=edu_mar_2005.replace(to_replace=code_2005['education_2003_revision'], subset=['education_2003_revision'])\n",
        "df2 = df.replace(to_replace=code_2005['marital_status'], subset=['marital_status'])"
      ],
      "metadata": {
        "id": "LoTgPOOWjZcC"
      },
      "execution_count": null,
      "outputs": []
    },
    {
      "cell_type": "code",
      "source": [
        "df2.coalesce(1).write.format('com.databricks.spark.csv').options(header='true').save('content/mar_edu_2005')"
      ],
      "metadata": {
        "id": "ltC7qE8PRgR9"
      },
      "execution_count": null,
      "outputs": []
    },
    {
      "cell_type": "code",
      "source": [
        "code_2010=read_json('/content/Death_Dataset/2010_codes.json')\n",
        "edu_mar_2010=multi_var('/content/Death_Dataset/2010_data.csv','education_2003_revision','marital_status')\n",
        "df=edu_mar_2010.replace(to_replace=code_2010['education_2003_revision'], subset=['education_2003_revision'])\n",
        "df2 = df.replace(to_replace=code_2010['marital_status'], subset=['marital_status'])\n",
        "df2.coalesce(1).write.format('com.databricks.spark.csv').options(header='true').save('content/mar_edu_2010')"
      ],
      "metadata": {
        "id": "gsX7KD9yRib2"
      },
      "execution_count": null,
      "outputs": []
    },
    {
      "cell_type": "code",
      "source": [
        "code_2015=read_json('/content/Death_Dataset/2015_codes.json')\n",
        "edu_mar_2015=multi_var('/content/Death_Dataset/2015_data.csv','education_2003_revision','marital_status')\n",
        "df=edu_mar_2015.replace(to_replace=code_2015['education_2003_revision'], subset=['education_2003_revision'])\n",
        "df2 = df.replace(to_replace=code_2015['marital_status'], subset=['marital_status'])\n",
        "df2.coalesce(1).write.format('com.databricks.spark.csv').options(header='true').save('content/mar_edu_2015')"
      ],
      "metadata": {
        "id": "vcOwDkIcS1mz"
      },
      "execution_count": null,
      "outputs": []
    },
    {
      "cell_type": "code",
      "source": [
        ""
      ],
      "metadata": {
        "id": "BZrC0KasTeN4"
      },
      "execution_count": null,
      "outputs": []
    },
    {
      "cell_type": "code",
      "source": [
        ""
      ],
      "metadata": {
        "id": "4qhjKZSDUPqt"
      },
      "execution_count": null,
      "outputs": []
    }
  ]
}